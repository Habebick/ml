{
  "cells": [
    {
      "cell_type": "markdown",
      "metadata": {
        "id": "M-DGa20PaHnu"
      },
      "source": [
        "#Задача 1\n",
        "Написать функцию на вход которой подается строка, состоящая из латинских букв.\n",
        "Функция должна вернуть количество гласных букв (a, e, i, o, u) в этой строке. Написать тесты для кода"
      ]
    },
    {
      "cell_type": "code",
      "execution_count": null,
      "metadata": {
        "id": "XvX8X_JJ6PCb"
      },
      "outputs": [],
      "source": [
        "def StringVowel(n): #1\n",
        "    if type(n) != str:\n",
        "        return 404\n",
        "    A = [\"a\", \"e\", \"i\", \"o\", \"u\"]\n",
        "    s = 0\n",
        "    n = n.lower()\n",
        "    for i in range(len(A)):\n",
        "        s += n.count(A[i])\n",
        "    return s\n",
        "def test_StringVowel():\n",
        "    assert StringVowel('asasa') == 3\n",
        "    assert StringVowel(123) == 404\n",
        "    assert StringVowel('abaleOOU') == 6\n",
        "test_StringVowel()"
      ]
    },
    {
      "cell_type": "markdown",
      "metadata": {
        "id": "t2ClV_Y0bbr6"
      },
      "source": [
        "# Задача 2\n",
        "Написать функцию на вход, которой подается строка. Функция должна вернуть true, если\n",
        "каждый символ в строке встречается только 1 раз, иначе должна вернуть false. Написать тесты для кода"
      ]
    },
    {
      "cell_type": "code",
      "execution_count": null,
      "metadata": {
        "id": "FppbECao6VIz"
      },
      "outputs": [],
      "source": [
        "def StringCount(n): #2\n",
        "    if type(n) != str:\n",
        "        return 404\n",
        "    s = True\n",
        "    n = n.lower()\n",
        "    for i in range(len(n)):\n",
        "        if n.count(n[i]) > 1:\n",
        "            s = False\n",
        "            break\n",
        "    return s\n",
        "def test_StringCount():\n",
        "    assert StringCount('asasa') == False\n",
        "    assert StringCount(123) == 404\n",
        "    assert StringCount('abaleOOU') == False\n",
        "    assert StringCount('aqwer') == True\n",
        "test_StringVowel()"
      ]
    },
    {
      "cell_type": "markdown",
      "metadata": {
        "id": "udRiIK1cdt6E"
      },
      "source": [
        "# Задача 3\n",
        "Написать функцию, которая принимает положительное число и возвращает количество\n",
        "бит равных 1 в этом числе. Написать тесты для кода"
      ]
    },
    {
      "cell_type": "code",
      "execution_count": null,
      "metadata": {
        "id": "6tkfDJRz6dp_"
      },
      "outputs": [],
      "source": [
        "def CountBits(n): #3\n",
        "    s = 0\n",
        "    if type(n) != int:\n",
        "        return 404\n",
        "    n = int(n)\n",
        "    while n > 0:\n",
        "        n &= n - 1\n",
        "        s += 1\n",
        "    return s\n",
        "def test_CountBits():\n",
        "    assert CountBits('asasa') == 404\n",
        "    assert CountBits(123) == 6\n",
        "    assert CountBits(25) == 3\n",
        "    assert CountBits(155) == 5\n",
        "test_CountBits()"
      ]
    },
    {
      "cell_type": "markdown",
      "metadata": {
        "id": "26dDUz-Ae17N"
      },
      "source": [
        "# Задача 4\n",
        "Написать функцию, которая принимает положительное число. Функция должна вернуть то,\n",
        "сколько раз необходимо перемножать цифры числа или результат перемножения, чтобы\n",
        "получилось число состоящее из одной цифры.\n",
        "Например, для входного числа:\n",
        "· 39 функция должна вернуть 3, так как 3*9=27 => 2*7=14 => 1*4=4\n",
        "· 4 функция должна вернуть 0, так как число уже состоит из одной цифры\n",
        "· 999 функция должна вернуть 4, так как 9*9*9=729 => 7*2*9=126 => 1*2*6=12 =>\n",
        "1*2=2. Написать тесты для кода"
      ]
    },
    {
      "cell_type": "code",
      "execution_count": null,
      "metadata": {
        "id": "BH1A_Mgi6i4G"
      },
      "outputs": [],
      "source": [
        "def magic(n): #4\n",
        "    s = 1\n",
        "    count = 0\n",
        "    if type(n) != int:\n",
        "        return 404\n",
        "    while n > 10:\n",
        "        for a in str(n):\n",
        "            s *= int(a)\n",
        "        n = s\n",
        "        count +=1\n",
        "        s = 1\n",
        "    return count\n",
        "def test_magic():\n",
        "    assert magic('asasa') == 404\n",
        "    assert magic(39) == 3\n",
        "    assert magic(9) == 0\n",
        "    assert magic(999) == 4\n",
        "test_magic()"
      ]
    },
    {
      "cell_type": "markdown",
      "metadata": {
        "id": "0nS-kIa8g8vd"
      },
      "source": [
        "# Задача 5\n",
        "Написать функцию, которая принимает два целочисленных вектора одинаковой длины и\n",
        "возвращает среднеквадратическое отклонение двух векторов. Написать тесты для кода"
      ]
    },
    {
      "cell_type": "code",
      "execution_count": null,
      "metadata": {
        "id": "8iphx4LM6xbx"
      },
      "outputs": [],
      "source": [
        "def mse(pred, true):\n",
        "    # Your code goes here\n",
        "    pass"
      ]
    },
    {
      "cell_type": "markdown",
      "metadata": {
        "id": "vpIPKL439zkw"
      },
      "source": [
        "# Задача 6\n",
        "Написать функцию, принимающая целое положительное число. Функция должна вернуть\n",
        "строку вида “(n1**p1)(n2**p2)…(nk**pk)” представляющая разложение числа на простые\n",
        "множители (если pi == 1, то выводить только ni).\n",
        "Например, для числа 86240 функция должна вернуть “(2**5)(5)(7**2)(11)”. Написать тесты для кода"
      ]
    },
    {
      "cell_type": "code",
      "execution_count": null,
      "metadata": {
        "id": "pFebmcZk94Jw"
      },
      "outputs": [],
      "source": [
        "def MultiNumber(n): #6\n",
        "   i = 2\n",
        "   A = []\n",
        "   B = []\n",
        "   if type(n) != int:\n",
        "       return 404\n",
        "   while i * i <= n:\n",
        "       if n %i == 0:\n",
        "           B.append(i)\n",
        "       while n % i == 0:\n",
        "           A.append(i)\n",
        "           n = n / i\n",
        "       i = i + 1\n",
        "   if n > 1:\n",
        "       A.append(n)\n",
        "       B.append(n)\n",
        "   res = \" \"\n",
        "   for i in range(len(B)):\n",
        "       if A.count(B[i]) == 1:\n",
        "           res += str(B[i]) + \" \"\n",
        "       else:\n",
        "           res += str(B[i]) + \"**\" + str(A.count(B[i])) + \" \"\n",
        "   return res\n",
        "def test_MultiNumber():\n",
        "    assert MultiNumber(86240) == '2**5 5 7**2 11.0 '\n",
        "    assert MultiNumber(78654) == '2 3 13109.0 '\n",
        "    assert MultiNumber('asd') == 404\n",
        "    assert MultiNumber(999) == '2**2 5**2 '\n",
        "test_MultiNumber()"
      ]
    },
    {
      "cell_type": "markdown",
      "metadata": {
        "id": "ps2s0BudX7A2"
      },
      "source": [
        "# Задача 7\n",
        "Написать функцию, принимающая целое число n, задающее количество кубиков. Функция\n",
        "должна определить, можно ли из данного кол-ва кубиков построить пирамиду, то есть\n",
        "можно ли представить число n как 1^2+2^2+3^2+…+k^2. Если можно, то функция должна\n",
        "вернуть k, иначе строку “It is impossible”. Написать тесты для кода"
      ]
    },
    {
      "cell_type": "code",
      "execution_count": null,
      "metadata": {
        "id": "3YPjEXxhX_YT"
      },
      "outputs": [],
      "source": [
        "def pyramid(n): #7\n",
        "    if type(n) != int:\n",
        "        return 404\n",
        "    if n < 0:\n",
        "        return 404\n",
        "    k = 1\n",
        "    while n > 0:\n",
        "        n -= k**2\n",
        "        k+=1\n",
        "    if n == 0:\n",
        "        return k-1\n",
        "    return \"it is impossible\"\n",
        "def test_AvergSum():\n",
        "    assert pyramid(1) == 1\n",
        "    assert pyramid(5) == 2\n",
        "    assert pyramid('asd') == 404\n",
        "    assert pyramid(6) == \"it is impossible\"\n",
        "test_AvergSum()"
      ]
    },
    {
      "cell_type": "markdown",
      "metadata": {
        "id": "KeKgmIdAQMEJ"
      },
      "source": [
        "# Задача 8\n",
        "Функция принимает на вход положительное число и определяет является ли оно сбалансированным, т.е. сумма цифр до средних равна сумме цифр после. Средними в случае нечетного числа цифр считать одну цифру, в случае четного - две средних. Написать тесты для кода"
      ]
    },
    {
      "cell_type": "code",
      "execution_count": null,
      "metadata": {
        "id": "gMAAqtqlQrZt"
      },
      "outputs": [],
      "source": [
        "def AvergSum(n): #8\n",
        "    if type(n) != int:\n",
        "        return 404\n",
        "    if n < 0:\n",
        "        return 404\n",
        "    n = str(n)\n",
        "    s = 0\n",
        "    z = 0\n",
        "    if len(n) % 2 == 0:\n",
        "        for i in range((len(n)//2)-1):\n",
        "            s +=int(n[i])\n",
        "            z +=int(n[len(n)-i-1])\n",
        "    else:\n",
        "        for i in range(len(n)//2):\n",
        "            s += int(n[i])\n",
        "            z += int(n[len(n)-i-1])\n",
        "    return s == z\n",
        "def test_AvergSum():\n",
        "    assert AvergSum(121) == True\n",
        "    assert AvergSum(11211) == True\n",
        "    assert AvergSum('asd') == 404\n",
        "    assert AvergSum(15099) == False\n",
        "test_AvergSum"
      ]
    }
  ],
  "metadata": {
    "colab": {
      "provenance": []
    },
    "kernelspec": {
      "display_name": "Python 3",
      "name": "python3"
    },
    "language_info": {
      "name": "python"
    }
  },
  "nbformat": 4,
  "nbformat_minor": 0
}
